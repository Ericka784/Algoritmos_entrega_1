{
 "cells": [
  {
   "cell_type": "markdown",
   "id": "f6c04ab4",
   "metadata": {},
   "source": [
    "Aproximación de pi"
   ]
  },
  {
   "cell_type": "code",
   "execution_count": 31,
   "id": "02c92e84",
   "metadata": {},
   "outputs": [
    {
     "name": "stderr",
     "output_type": "stream",
     "text": [
      "\u001b[32m\u001b[1m     Cloning\u001b[22m\u001b[39m git-repo `https://github.com/JuliaPlots/Plots.jl.git`\n",
      "\u001b[32m\u001b[1m    Updating\u001b[22m\u001b[39m git-repo `https://github.com/JuliaPlots/Plots.jl.git`\n",
      "\u001b[32m\u001b[1m   Resolving\u001b[22m\u001b[39m package versions...\n"
     ]
    },
    {
     "ename": "LoadError",
     "evalue": "Unsatisfiable requirements detected for package \u001b[38;5;1mQuartzImageIO [dca85d43]\u001b[39m:\n \u001b[38;5;1mQuartzImageIO [dca85d43]\u001b[39m log:\n ├─possible versions are: \u001b[38;5;1m0.5.0-0.7.4\u001b[39m or uninstalled\n ├─restricted by compatibility requirements with \u001b[38;5;4mFixedPointNumbers [53c48c17]\u001b[39m to versions: \u001b[38;5;1m0.6.0-0.7.4\u001b[39m or uninstalled\n │ └─\u001b[38;5;4mFixedPointNumbers [53c48c17]\u001b[39m log:\n │   ├─possible versions are: \u001b[38;5;4m0.5.0-0.8.4\u001b[39m or uninstalled\n │   ├─restricted to versions \u001b[38;5;4m0.6-0.8\u001b[39m by \u001b[38;5;2mPlots [91a5bcdd]\u001b[39m, leaving only versions \u001b[38;5;4m0.6.0-0.8.4\u001b[39m\n │   │ └─\u001b[38;5;2mPlots [91a5bcdd]\u001b[39m log:\n │   │   ├─possible versions are: \u001b[38;5;2m1.38.10\u001b[39m or uninstalled\n │   │   ├─restricted to versions \u001b[38;5;2m*\u001b[39m by \u001b[38;5;10mThinkJulia [a7f2b756]\u001b[39m, leaving only versions \u001b[38;5;2m1.38.10\u001b[39m\n │   │   │ └─\u001b[38;5;10mThinkJulia [a7f2b756]\u001b[39m log:\n │   │   │   ├─possible versions are: \u001b[38;5;10m0.0.0\u001b[39m or uninstalled\n │   │   │   └─\u001b[38;5;10mThinkJulia [a7f2b756]\u001b[39m is fixed to version \u001b[38;5;10m0.0.0\u001b[39m\n │   │   └─\u001b[38;5;2mPlots [91a5bcdd]\u001b[39m is fixed to version \u001b[38;5;2m1.38.10\u001b[39m\n │   └─restricted by compatibility requirements with \u001b[38;5;5mImageCore [a09fc81d]\u001b[39m to versions: \u001b[38;5;4m0.6.1-0.8.4\u001b[39m\n │     └─\u001b[38;5;5mImageCore [a09fc81d]\u001b[39m log:\n │       ├─possible versions are: \u001b[38;5;5m0.7.0-0.9.4\u001b[39m or uninstalled\n │       ├─restricted by compatibility requirements with \u001b[38;5;4mFixedPointNumbers [53c48c17]\u001b[39m to versions: \u001b[38;5;5m0.8.1-0.9.4\u001b[39m or uninstalled\n │       │ └─\u001b[38;5;4mFixedPointNumbers [53c48c17]\u001b[39m log: see above\n │       └─restricted by compatibility requirements with \u001b[38;5;13mColors [5ae59095]\u001b[39m to versions: \u001b[38;5;5m0.8.12-0.9.4\u001b[39m or uninstalled, leaving only versions: \u001b[38;5;5m0.8.12-0.9.4\u001b[39m\n │         └─\u001b[38;5;13mColors [5ae59095]\u001b[39m log:\n │           ├─possible versions are: \u001b[38;5;13m0.9.0-0.12.10\u001b[39m or uninstalled\n │           └─restricted by compatibility requirements with \u001b[38;5;10mPlotUtils [995b91a9]\u001b[39m to versions: \u001b[38;5;13m0.12.0-0.12.10\u001b[39m\n │             └─\u001b[38;5;10mPlotUtils [995b91a9]\u001b[39m log:\n │               ├─possible versions are: \u001b[38;5;10m0.5.0-1.3.4\u001b[39m or uninstalled\n │               └─restricted to versions \u001b[38;5;10m1\u001b[39m by \u001b[38;5;2mPlots [91a5bcdd]\u001b[39m, leaving only versions \u001b[38;5;10m1.0.0-1.3.4\u001b[39m\n │                 └─\u001b[38;5;2mPlots [91a5bcdd]\u001b[39m log: see above\n ├─restricted by compatibility requirements with \u001b[38;5;3mLuxor [ae8d54c2]\u001b[39m to versions: \u001b[38;5;1m0.5.0-0.6.0\u001b[39m, leaving only versions: \u001b[38;5;1m0.6.0\u001b[39m\n │ └─\u001b[38;5;3mLuxor [ae8d54c2]\u001b[39m log:\n │   ├─possible versions are: \u001b[38;5;3m0.11.0-3.7.0\u001b[39m or uninstalled\n │   ├─restricted to versions \u001b[38;5;3m1\u001b[39m by \u001b[38;5;10mThinkJulia [a7f2b756]\u001b[39m, leaving only versions \u001b[38;5;3m1.0.0-1.12.0\u001b[39m\n │   │ └─\u001b[38;5;10mThinkJulia [a7f2b756]\u001b[39m log: see above\n │   └─restricted by compatibility requirements with \u001b[38;5;13mColors [5ae59095]\u001b[39m to versions: \u001b[38;5;3m1.11.0-3.7.0\u001b[39m or uninstalled, leaving only versions: \u001b[38;5;3m1.11.0-1.12.0\u001b[39m\n │     └─\u001b[38;5;13mColors [5ae59095]\u001b[39m log: see above\n └─restricted by compatibility requirements with \u001b[38;5;13mColorTypes [3da002f7]\u001b[39m to versions: \u001b[38;5;1m0.7.1-0.7.4\u001b[39m or uninstalled — no versions left\n   └─\u001b[38;5;13mColorTypes [3da002f7]\u001b[39m log:\n     ├─possible versions are: \u001b[38;5;13m0.7.0-0.11.4\u001b[39m or uninstalled\n     └─restricted by compatibility requirements with \u001b[38;5;13mColors [5ae59095]\u001b[39m to versions: \u001b[38;5;13m0.10.0-0.11.4\u001b[39m\n       └─\u001b[38;5;13mColors [5ae59095]\u001b[39m log: see above",
     "output_type": "error",
     "traceback": [
      "Unsatisfiable requirements detected for package \u001b[38;5;1mQuartzImageIO [dca85d43]\u001b[39m:\n \u001b[38;5;1mQuartzImageIO [dca85d43]\u001b[39m log:\n ├─possible versions are: \u001b[38;5;1m0.5.0-0.7.4\u001b[39m or uninstalled\n ├─restricted by compatibility requirements with \u001b[38;5;4mFixedPointNumbers [53c48c17]\u001b[39m to versions: \u001b[38;5;1m0.6.0-0.7.4\u001b[39m or uninstalled\n │ └─\u001b[38;5;4mFixedPointNumbers [53c48c17]\u001b[39m log:\n │   ├─possible versions are: \u001b[38;5;4m0.5.0-0.8.4\u001b[39m or uninstalled\n │   ├─restricted to versions \u001b[38;5;4m0.6-0.8\u001b[39m by \u001b[38;5;2mPlots [91a5bcdd]\u001b[39m, leaving only versions \u001b[38;5;4m0.6.0-0.8.4\u001b[39m\n │   │ └─\u001b[38;5;2mPlots [91a5bcdd]\u001b[39m log:\n │   │   ├─possible versions are: \u001b[38;5;2m1.38.10\u001b[39m or uninstalled\n │   │   ├─restricted to versions \u001b[38;5;2m*\u001b[39m by \u001b[38;5;10mThinkJulia [a7f2b756]\u001b[39m, leaving only versions \u001b[38;5;2m1.38.10\u001b[39m\n │   │   │ └─\u001b[38;5;10mThinkJulia [a7f2b756]\u001b[39m log:\n │   │   │   ├─possible versions are: \u001b[38;5;10m0.0.0\u001b[39m or uninstalled\n │   │   │   └─\u001b[38;5;10mThinkJulia [a7f2b756]\u001b[39m is fixed to version \u001b[38;5;10m0.0.0\u001b[39m\n │   │   └─\u001b[38;5;2mPlots [91a5bcdd]\u001b[39m is fixed to version \u001b[38;5;2m1.38.10\u001b[39m\n │   └─restricted by compatibility requirements with \u001b[38;5;5mImageCore [a09fc81d]\u001b[39m to versions: \u001b[38;5;4m0.6.1-0.8.4\u001b[39m\n │     └─\u001b[38;5;5mImageCore [a09fc81d]\u001b[39m log:\n │       ├─possible versions are: \u001b[38;5;5m0.7.0-0.9.4\u001b[39m or uninstalled\n │       ├─restricted by compatibility requirements with \u001b[38;5;4mFixedPointNumbers [53c48c17]\u001b[39m to versions: \u001b[38;5;5m0.8.1-0.9.4\u001b[39m or uninstalled\n │       │ └─\u001b[38;5;4mFixedPointNumbers [53c48c17]\u001b[39m log: see above\n │       └─restricted by compatibility requirements with \u001b[38;5;13mColors [5ae59095]\u001b[39m to versions: \u001b[38;5;5m0.8.12-0.9.4\u001b[39m or uninstalled, leaving only versions: \u001b[38;5;5m0.8.12-0.9.4\u001b[39m\n │         └─\u001b[38;5;13mColors [5ae59095]\u001b[39m log:\n │           ├─possible versions are: \u001b[38;5;13m0.9.0-0.12.10\u001b[39m or uninstalled\n │           └─restricted by compatibility requirements with \u001b[38;5;10mPlotUtils [995b91a9]\u001b[39m to versions: \u001b[38;5;13m0.12.0-0.12.10\u001b[39m\n │             └─\u001b[38;5;10mPlotUtils [995b91a9]\u001b[39m log:\n │               ├─possible versions are: \u001b[38;5;10m0.5.0-1.3.4\u001b[39m or uninstalled\n │               └─restricted to versions \u001b[38;5;10m1\u001b[39m by \u001b[38;5;2mPlots [91a5bcdd]\u001b[39m, leaving only versions \u001b[38;5;10m1.0.0-1.3.4\u001b[39m\n │                 └─\u001b[38;5;2mPlots [91a5bcdd]\u001b[39m log: see above\n ├─restricted by compatibility requirements with \u001b[38;5;3mLuxor [ae8d54c2]\u001b[39m to versions: \u001b[38;5;1m0.5.0-0.6.0\u001b[39m, leaving only versions: \u001b[38;5;1m0.6.0\u001b[39m\n │ └─\u001b[38;5;3mLuxor [ae8d54c2]\u001b[39m log:\n │   ├─possible versions are: \u001b[38;5;3m0.11.0-3.7.0\u001b[39m or uninstalled\n │   ├─restricted to versions \u001b[38;5;3m1\u001b[39m by \u001b[38;5;10mThinkJulia [a7f2b756]\u001b[39m, leaving only versions \u001b[38;5;3m1.0.0-1.12.0\u001b[39m\n │   │ └─\u001b[38;5;10mThinkJulia [a7f2b756]\u001b[39m log: see above\n │   └─restricted by compatibility requirements with \u001b[38;5;13mColors [5ae59095]\u001b[39m to versions: \u001b[38;5;3m1.11.0-3.7.0\u001b[39m or uninstalled, leaving only versions: \u001b[38;5;3m1.11.0-1.12.0\u001b[39m\n │     └─\u001b[38;5;13mColors [5ae59095]\u001b[39m log: see above\n └─restricted by compatibility requirements with \u001b[38;5;13mColorTypes [3da002f7]\u001b[39m to versions: \u001b[38;5;1m0.7.1-0.7.4\u001b[39m or uninstalled — no versions left\n   └─\u001b[38;5;13mColorTypes [3da002f7]\u001b[39m log:\n     ├─possible versions are: \u001b[38;5;13m0.7.0-0.11.4\u001b[39m or uninstalled\n     └─restricted by compatibility requirements with \u001b[38;5;13mColors [5ae59095]\u001b[39m to versions: \u001b[38;5;13m0.10.0-0.11.4\u001b[39m\n       └─\u001b[38;5;13mColors [5ae59095]\u001b[39m log: see above",
      "",
      "Stacktrace:",
      "  [1] propagate_constraints!(graph::Pkg.Resolve.Graph, sources::Set{Int64}; log_events::Bool)",
      "    @ Pkg.Resolve C:\\Users\\Ericka\\AppData\\Local\\Programs\\Julia-1.8.5\\share\\julia\\stdlib\\v1.8\\Pkg\\src\\Resolve\\graphtype.jl:1072",
      "  [2] propagate_constraints! (repeats 2 times)",
      "    @ C:\\Users\\Ericka\\AppData\\Local\\Programs\\Julia-1.8.5\\share\\julia\\stdlib\\v1.8\\Pkg\\src\\Resolve\\graphtype.jl:1008 [inlined]",
      "  [3] simplify_graph!(graph::Pkg.Resolve.Graph, sources::Set{Int64}; clean_graph::Bool)",
      "    @ Pkg.Resolve C:\\Users\\Ericka\\AppData\\Local\\Programs\\Julia-1.8.5\\share\\julia\\stdlib\\v1.8\\Pkg\\src\\Resolve\\graphtype.jl:1533",
      "  [4] simplify_graph! (repeats 2 times)",
      "    @ C:\\Users\\Ericka\\AppData\\Local\\Programs\\Julia-1.8.5\\share\\julia\\stdlib\\v1.8\\Pkg\\src\\Resolve\\graphtype.jl:1532 [inlined]",
      "  [5] resolve_versions!(env::Pkg.Types.EnvCache, registries::Vector{Pkg.Registry.RegistryInstance}, pkgs::Vector{Pkg.Types.PackageSpec}, julia_version::VersionNumber)",
      "    @ Pkg.Operations C:\\Users\\Ericka\\AppData\\Local\\Programs\\Julia-1.8.5\\share\\julia\\stdlib\\v1.8\\Pkg\\src\\Operations.jl:352",
      "  [6] targeted_resolve(env::Pkg.Types.EnvCache, registries::Vector{Pkg.Registry.RegistryInstance}, pkgs::Vector{Pkg.Types.PackageSpec}, preserve::Pkg.Types.PreserveLevel, julia_version::VersionNumber)",
      "    @ Pkg.Operations C:\\Users\\Ericka\\AppData\\Local\\Programs\\Julia-1.8.5\\share\\julia\\stdlib\\v1.8\\Pkg\\src\\Operations.jl:1254",
      "  [7] tiered_resolve(env::Pkg.Types.EnvCache, registries::Vector{Pkg.Registry.RegistryInstance}, pkgs::Vector{Pkg.Types.PackageSpec}, julia_version::VersionNumber)",
      "    @ Pkg.Operations C:\\Users\\Ericka\\AppData\\Local\\Programs\\Julia-1.8.5\\share\\julia\\stdlib\\v1.8\\Pkg\\src\\Operations.jl:1239",
      "  [8] _resolve(io::IJulia.IJuliaStdio{Base.PipeEndpoint}, env::Pkg.Types.EnvCache, registries::Vector{Pkg.Registry.RegistryInstance}, pkgs::Vector{Pkg.Types.PackageSpec}, preserve::Pkg.Types.PreserveLevel, julia_version::VersionNumber)",
      "    @ Pkg.Operations C:\\Users\\Ericka\\AppData\\Local\\Programs\\Julia-1.8.5\\share\\julia\\stdlib\\v1.8\\Pkg\\src\\Operations.jl:1260",
      "  [9] add(ctx::Pkg.Types.Context, pkgs::Vector{Pkg.Types.PackageSpec}, new_git::Set{Base.UUID}; preserve::Pkg.Types.PreserveLevel, platform::Base.BinaryPlatforms.Platform)",
      "    @ Pkg.Operations C:\\Users\\Ericka\\AppData\\Local\\Programs\\Julia-1.8.5\\share\\julia\\stdlib\\v1.8\\Pkg\\src\\Operations.jl:1276",
      " [10] add(ctx::Pkg.Types.Context, pkgs::Vector{Pkg.Types.PackageSpec}; preserve::Pkg.Types.PreserveLevel, platform::Base.BinaryPlatforms.Platform, kwargs::Base.Pairs{Symbol, IJulia.IJuliaStdio{Base.PipeEndpoint}, Tuple{Symbol}, NamedTuple{(:io,), Tuple{IJulia.IJuliaStdio{Base.PipeEndpoint}}}})",
      "    @ Pkg.API C:\\Users\\Ericka\\AppData\\Local\\Programs\\Julia-1.8.5\\share\\julia\\stdlib\\v1.8\\Pkg\\src\\API.jl:275",
      " [11] add(pkgs::Vector{Pkg.Types.PackageSpec}; io::IJulia.IJuliaStdio{Base.PipeEndpoint}, kwargs::Base.Pairs{Symbol, Union{}, Tuple{}, NamedTuple{(), Tuple{}}})",
      "    @ Pkg.API C:\\Users\\Ericka\\AppData\\Local\\Programs\\Julia-1.8.5\\share\\julia\\stdlib\\v1.8\\Pkg\\src\\API.jl:156",
      " [12] add(pkgs::Vector{Pkg.Types.PackageSpec})",
      "    @ Pkg.API C:\\Users\\Ericka\\AppData\\Local\\Programs\\Julia-1.8.5\\share\\julia\\stdlib\\v1.8\\Pkg\\src\\API.jl:145",
      " [13] #add#26",
      "    @ C:\\Users\\Ericka\\AppData\\Local\\Programs\\Julia-1.8.5\\share\\julia\\stdlib\\v1.8\\Pkg\\src\\API.jl:143 [inlined]",
      " [14] add",
      "    @ C:\\Users\\Ericka\\AppData\\Local\\Programs\\Julia-1.8.5\\share\\julia\\stdlib\\v1.8\\Pkg\\src\\API.jl:143 [inlined]",
      " [15] add(; name::Nothing, uuid::Nothing, version::Nothing, url::String, rev::Nothing, path::Nothing, mode::Pkg.Types.PackageMode, subdir::Nothing, kwargs::Base.Pairs{Symbol, Union{}, Tuple{}, NamedTuple{(), Tuple{}}})",
      "    @ Pkg.API C:\\Users\\Ericka\\AppData\\Local\\Programs\\Julia-1.8.5\\share\\julia\\stdlib\\v1.8\\Pkg\\src\\API.jl:173",
      " [16] top-level scope",
      "    @ In[31]:5"
     ]
    }
   ],
   "source": [
    "#Importamos el paquete \"Pkg\" para poder instalar paquetes.\n",
    "using Pkg                                                  \n",
    "\n",
    "#Luego, instalamos el paquete \"ThinkJulia\".\n",
    "Pkg.add(url=\"https://github.com/JuliaPlots/Plots.jl.git\")"
   ]
  },
  {
   "cell_type": "code",
   "execution_count": 34,
   "id": "2e0ee3c0",
   "metadata": {},
   "outputs": [],
   "source": [
    "using Plots"
   ]
  },
  {
   "cell_type": "code",
   "execution_count": 41,
   "id": "ca198228",
   "metadata": {},
   "outputs": [
    {
     "ename": "LoadError",
     "evalue": "MethodError: no method matching length(::Colon)\n\u001b[0mClosest candidates are:\n\u001b[0m  length(\u001b[91m::Union{Base.KeySet, Base.ValueIterator}\u001b[39m) at abstractdict.jl:58\n\u001b[0m  length(\u001b[91m::Union{ZMQ._Message, Base.RefValue{ZMQ._Message}}\u001b[39m) at C:\\Users\\Ericka\\.julia\\packages\\ZMQ\\lrABE\\src\\_message.jl:31\n\u001b[0m  length(\u001b[91m::Union{LinearAlgebra.Adjoint{T, <:Union{StaticArraysCore.StaticArray{Tuple{var\"#s2\"}, T, 1} where var\"#s2\", StaticArraysCore.StaticArray{Tuple{var\"#s3\", var\"#s4\"}, T, 2} where {var\"#s3\", var\"#s4\"}}}, LinearAlgebra.Diagonal{T, <:StaticArraysCore.StaticArray{Tuple{var\"#s13\"}, T, 1} where var\"#s13\"}, LinearAlgebra.Hermitian{T, <:StaticArraysCore.StaticArray{Tuple{var\"#s10\", var\"#s11\"}, T, 2} where {var\"#s10\", var\"#s11\"}}, LinearAlgebra.LowerTriangular{T, <:StaticArraysCore.StaticArray{Tuple{var\"#s18\", var\"#s19\"}, T, 2} where {var\"#s18\", var\"#s19\"}}, LinearAlgebra.Symmetric{T, <:StaticArraysCore.StaticArray{Tuple{var\"#s7\", var\"#s8\"}, T, 2} where {var\"#s7\", var\"#s8\"}}, LinearAlgebra.Transpose{T, <:Union{StaticArraysCore.StaticArray{Tuple{var\"#s2\"}, T, 1} where var\"#s2\", StaticArraysCore.StaticArray{Tuple{var\"#s3\", var\"#s4\"}, T, 2} where {var\"#s3\", var\"#s4\"}}}, LinearAlgebra.UnitLowerTriangular{T, <:StaticArraysCore.StaticArray{Tuple{var\"#s24\", var\"#s25\"}, T, 2} where {var\"#s24\", var\"#s25\"}}, LinearAlgebra.UnitUpperTriangular{T, <:StaticArraysCore.StaticArray{Tuple{var\"#s21\", var\"#s22\"}, T, 2} where {var\"#s21\", var\"#s22\"}}, LinearAlgebra.UpperTriangular{T, <:StaticArraysCore.StaticArray{Tuple{var\"#s15\", var\"#s16\"}, T, 2} where {var\"#s15\", var\"#s16\"}}, StaticArraysCore.StaticArray{Tuple{var\"#s25\"}, T, 1} where var\"#s25\", StaticArraysCore.StaticArray{Tuple{var\"#s1\", var\"#s3\"}, T, 2} where {var\"#s1\", var\"#s3\"}, StaticArraysCore.StaticArray{<:Tuple, T}} where T\u001b[39m) at C:\\Users\\Ericka\\.julia\\packages\\StaticArrays\\4uslg\\src\\abstractarray.jl:1\n\u001b[0m  ...",
     "output_type": "error",
     "traceback": [
      "MethodError: no method matching length(::Colon)\n\u001b[0mClosest candidates are:\n\u001b[0m  length(\u001b[91m::Union{Base.KeySet, Base.ValueIterator}\u001b[39m) at abstractdict.jl:58\n\u001b[0m  length(\u001b[91m::Union{ZMQ._Message, Base.RefValue{ZMQ._Message}}\u001b[39m) at C:\\Users\\Ericka\\.julia\\packages\\ZMQ\\lrABE\\src\\_message.jl:31\n\u001b[0m  length(\u001b[91m::Union{LinearAlgebra.Adjoint{T, <:Union{StaticArraysCore.StaticArray{Tuple{var\"#s2\"}, T, 1} where var\"#s2\", StaticArraysCore.StaticArray{Tuple{var\"#s3\", var\"#s4\"}, T, 2} where {var\"#s3\", var\"#s4\"}}}, LinearAlgebra.Diagonal{T, <:StaticArraysCore.StaticArray{Tuple{var\"#s13\"}, T, 1} where var\"#s13\"}, LinearAlgebra.Hermitian{T, <:StaticArraysCore.StaticArray{Tuple{var\"#s10\", var\"#s11\"}, T, 2} where {var\"#s10\", var\"#s11\"}}, LinearAlgebra.LowerTriangular{T, <:StaticArraysCore.StaticArray{Tuple{var\"#s18\", var\"#s19\"}, T, 2} where {var\"#s18\", var\"#s19\"}}, LinearAlgebra.Symmetric{T, <:StaticArraysCore.StaticArray{Tuple{var\"#s7\", var\"#s8\"}, T, 2} where {var\"#s7\", var\"#s8\"}}, LinearAlgebra.Transpose{T, <:Union{StaticArraysCore.StaticArray{Tuple{var\"#s2\"}, T, 1} where var\"#s2\", StaticArraysCore.StaticArray{Tuple{var\"#s3\", var\"#s4\"}, T, 2} where {var\"#s3\", var\"#s4\"}}}, LinearAlgebra.UnitLowerTriangular{T, <:StaticArraysCore.StaticArray{Tuple{var\"#s24\", var\"#s25\"}, T, 2} where {var\"#s24\", var\"#s25\"}}, LinearAlgebra.UnitUpperTriangular{T, <:StaticArraysCore.StaticArray{Tuple{var\"#s21\", var\"#s22\"}, T, 2} where {var\"#s21\", var\"#s22\"}}, LinearAlgebra.UpperTriangular{T, <:StaticArraysCore.StaticArray{Tuple{var\"#s15\", var\"#s16\"}, T, 2} where {var\"#s15\", var\"#s16\"}}, StaticArraysCore.StaticArray{Tuple{var\"#s25\"}, T, 1} where var\"#s25\", StaticArraysCore.StaticArray{Tuple{var\"#s1\", var\"#s3\"}, T, 2} where {var\"#s1\", var\"#s3\"}, StaticArraysCore.StaticArray{<:Tuple, T}} where T\u001b[39m) at C:\\Users\\Ericka\\.julia\\packages\\StaticArrays\\4uslg\\src\\abstractarray.jl:1\n\u001b[0m  ...",
      "",
      "Stacktrace:",
      "  [1] length(g::Base.Generator{Colon, Colon})",
      "    @ Base .\\generator.jl:50",
      "  [2] _similar_shape(itr::Base.Generator{Colon, Colon}, #unused#::Base.HasLength)",
      "    @ Base .\\array.jl:663",
      "  [3] collect(itr::Base.Generator{Colon, Colon})",
      "    @ Base .\\array.jl:786",
      "  [4] map(f::Function, A::Function)",
      "    @ Base .\\abstractarray.jl:2961",
      "  [5] _compute_x",
      "    @ C:\\Users\\Ericka\\.julia\\packages\\RecipesPipeline\\tkFmN\\src\\series.jl:75 [inlined]",
      "  [6] _compute_xyz(x::Function, y::Function, z::Nothing)",
      "    @ RecipesPipeline C:\\Users\\Ericka\\.julia\\packages\\RecipesPipeline\\tkFmN\\src\\series.jl:92",
      "  [7] macro expansion",
      "    @ C:\\Users\\Ericka\\.julia\\packages\\RecipesPipeline\\tkFmN\\src\\series.jl:158 [inlined]",
      "  [8] apply_recipe(plotattributes::AbstractDict{Symbol, Any}, #unused#::Type{RecipesPipeline.SliceIt}, x::Any, y::Any, z::Any)",
      "    @ RecipesPipeline C:\\Users\\Ericka\\.julia\\packages\\RecipesBase\\z10lo\\src\\RecipesBase.jl:300",
      "  [9] _process_userrecipes!(plt::Plots.Plot{Plots.GRBackend}, plotattributes::Dict{Symbol, Any}, args::Tuple{Vector{Any}, Vector{Any}})",
      "    @ RecipesPipeline C:\\Users\\Ericka\\.julia\\packages\\RecipesPipeline\\tkFmN\\src\\user_recipe.jl:35",
      " [10] recipe_pipeline!(plt::Plots.Plot{Plots.GRBackend}, plotattributes::Dict{Symbol, Any}, args::Tuple{Vector{Any}, Vector{Any}})",
      "    @ RecipesPipeline C:\\Users\\Ericka\\.julia\\packages\\RecipesPipeline\\tkFmN\\src\\RecipesPipeline.jl:69",
      " [11] _plot!(plt::Plots.Plot{Plots.GRBackend}, plotattributes::Dict{Symbol, Any}, args::Tuple{Vector{Any}, Vector{Any}})",
      "    @ Plots C:\\Users\\Ericka\\.julia\\packages\\Plots\\8GUYs\\src\\plot.jl:167",
      " [12] plot(::Vector{Any}, ::Vararg{Vector{Any}}; kw::Base.Pairs{Symbol, StepRangeLen{Float64, Base.TwicePrecision{Float64}, Base.TwicePrecision{Float64}, Int64}, Tuple{Symbol}, NamedTuple{(:width,), Tuple{StepRangeLen{Float64, Base.TwicePrecision{Float64}, Base.TwicePrecision{Float64}, Int64}}}})",
      "    @ Plots C:\\Users\\Ericka\\.julia\\packages\\Plots\\8GUYs\\src\\plot.jl:57",
      " [13] top-level scope",
      "    @ In[41]:1"
     ]
    }
   ],
   "source": [
    "plot(x, y, width=range(0, 5, length=100))"
   ]
  },
  {
   "cell_type": "code",
   "execution_count": null,
   "id": "62ed6a58",
   "metadata": {},
   "outputs": [],
   "source": []
  }
 ],
 "metadata": {
  "kernelspec": {
   "display_name": "Julia 1.8.5",
   "language": "julia",
   "name": "julia-1.8"
  },
  "language_info": {
   "file_extension": ".jl",
   "mimetype": "application/julia",
   "name": "julia",
   "version": "1.8.5"
  }
 },
 "nbformat": 4,
 "nbformat_minor": 5
}
